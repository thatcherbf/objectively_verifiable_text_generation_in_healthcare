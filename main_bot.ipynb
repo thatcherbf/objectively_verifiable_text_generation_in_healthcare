{
  "nbformat": 4,
  "nbformat_minor": 0,
  "metadata": {
    "colab": {
      "provenance": []
    },
    "kernelspec": {
      "name": "python3",
      "display_name": "Python 3"
    },
    "language_info": {
      "name": "python"
    }
  },
  "cells": [
    {
      "cell_type": "code",
      "execution_count": 1,
      "metadata": {
        "id": "pVH9ojzyxc-U"
      },
      "outputs": [],
      "source": [
        "from flask import Flask, request, jsonify, send_file\n",
        "from pyngrok import ngrok\n",
        "import requests"
      ]
    },
    {
      "cell_type": "code",
      "source": [
        "import os\n",
        "STATIC_DIR = os.path.abspath('/content/interface/static')"
      ],
      "metadata": {
        "id": "UCko-PoyV2wd"
      },
      "execution_count": 2,
      "outputs": []
    },
    {
      "cell_type": "code",
      "source": [
        "# Initialize the Flask app and the context history\n",
        "app = Flask(\"expert-bot\", static_folder = STATIC_DIR)\n",
        "context_history = []"
      ],
      "metadata": {
        "id": "L2FgK6pKV4It"
      },
      "execution_count": 3,
      "outputs": []
    },
    {
      "cell_type": "code",
      "source": [
        "@app.route(\"/\")\n",
        "def home():\n",
        "    html_file_path = '/content/interface/index.html'\n",
        "    with open(html_file_path, 'r') as file:\n",
        "      html_content = file.read()\n",
        "\n",
        "    return html_content"
      ],
      "metadata": {
        "id": "f_qMIchoV57j"
      },
      "execution_count": 4,
      "outputs": []
    },
    {
      "cell_type": "code",
      "source": [
        "@app.route(\"/interact\", methods=[\"POST\"])\n",
        "def interact():\n",
        "    global context_history\n",
        "    data = request.get_json()\n",
        "    user_input = data['query']\n",
        "\n",
        "    # Append user input to context as needed\n",
        "    context_history.append(f\"User: {user_input}\")\n",
        "\n",
        "    # Generate the response using the current context, not repeating the user's input\n",
        "    prompt = \"\\n\".join(context_history)\n",
        "\n",
        "    assistant_response = \"Response.\"\n",
        "\n",
        "    # Append the formatted response to the context\n",
        "    context_history.append(f\"Assistant: {assistant_response}\")\n",
        "\n",
        "    # Maintain a recent context window to avoid stale conversation artifacts\n",
        "    if len(context_history) > 10:\n",
        "        context_history = context_history[-10:]  # keep the last 10 exchanges\n",
        "\n",
        "    # Only display the Assistant's response to the user, not the entire context\n",
        "    response_to_display = assistant_response\n",
        "\n",
        "    return jsonify({\"answer\": response_to_display})"
      ],
      "metadata": {
        "id": "ydF_k8joV-gx"
      },
      "execution_count": 5,
      "outputs": []
    },
    {
      "cell_type": "code",
      "source": [
        "if __name__ == '__main__':\n",
        "    public_url = ngrok.connect(7000)\n",
        "\n",
        "    print(f\"Flask app is running at {public_url}\")\n",
        "\n",
        "    # Run the Flask app\n",
        "    app.run(host='0.0.0.0', port=7000)"
      ],
      "metadata": {
        "colab": {
          "base_uri": "https://localhost:8080/"
        },
        "id": "2v8blKF9WAsZ",
        "outputId": "58de8b3e-19a6-44c8-954c-7b511aa7e976"
      },
      "execution_count": 6,
      "outputs": [
        {
          "output_type": "stream",
          "name": "stdout",
          "text": [
            "Flask app is running at NgrokTunnel: \"https://d764-34-125-68-223.ngrok-free.app\" -> \"http://localhost:7000\"\n",
            " * Serving Flask app 'expert-bot'\n",
            " * Debug mode: off\n"
          ]
        },
        {
          "output_type": "stream",
          "name": "stderr",
          "text": [
            "INFO:werkzeug:\u001b[31m\u001b[1mWARNING: This is a development server. Do not use it in a production deployment. Use a production WSGI server instead.\u001b[0m\n",
            " * Running on all addresses (0.0.0.0)\n",
            " * Running on http://127.0.0.1:7000\n",
            " * Running on http://172.28.0.12:7000\n",
            "INFO:werkzeug:\u001b[33mPress CTRL+C to quit\u001b[0m\n",
            "INFO:werkzeug:127.0.0.1 - - [23/Feb/2025 21:30:17] \"GET / HTTP/1.1\" 200 -\n",
            "INFO:werkzeug:127.0.0.1 - - [23/Feb/2025 21:30:18] \"GET /static/styles.css HTTP/1.1\" 200 -\n",
            "INFO:werkzeug:127.0.0.1 - - [23/Feb/2025 21:30:18] \"GET /static/app.js HTTP/1.1\" 200 -\n",
            "INFO:werkzeug:127.0.0.1 - - [23/Feb/2025 21:30:18] \"\u001b[33mGET /favicon.ico HTTP/1.1\u001b[0m\" 404 -\n",
            "INFO:werkzeug:127.0.0.1 - - [23/Feb/2025 21:30:22] \"POST /interact HTTP/1.1\" 200 -\n"
          ]
        }
      ]
    },
    {
      "cell_type": "code",
      "source": [],
      "metadata": {
        "id": "XEgRdorAWMo7"
      },
      "execution_count": 6,
      "outputs": []
    }
  ]
}