{
  "cells": [
    {
      "cell_type": "markdown",
      "metadata": {
        "id": "6pfY-hRaihWS"
      },
      "source": [
        "# Preamble"
      ]
    },
    {
      "cell_type": "markdown",
      "metadata": {
        "id": "PzM4C14HZR2A"
      },
      "source": [
        "## Drive integration"
      ]
    },
    {
      "cell_type": "code",
      "execution_count": null,
      "metadata": {
        "id": "DQbI8kGho3Ej"
      },
      "outputs": [],
      "source": [
        "from google.colab import drive\n",
        "drive.mount('/content/drive')"
      ]
    },
    {
      "cell_type": "markdown",
      "metadata": {
        "id": "mme0ACl1ZViJ"
      },
      "source": [
        "## GPU"
      ]
    },
    {
      "cell_type": "code",
      "execution_count": null,
      "metadata": {
        "id": "rlJAWqhFWok1"
      },
      "outputs": [],
      "source": [
        "import torch\n",
        "device = torch.device(\"cuda\" if torch.cuda.is_available() else \"cpu\")"
      ]
    },
    {
      "cell_type": "markdown",
      "metadata": {
        "id": "Dno0YgNQZXnv"
      },
      "source": [
        "## Free GPU memory"
      ]
    },
    {
      "cell_type": "code",
      "execution_count": null,
      "metadata": {
        "id": "UHx8GpcbZXVN"
      },
      "outputs": [],
      "source": [
        "import gc\n",
        "def free_gpu_memory():\n",
        "  gc.collect()\n",
        "  torch.cuda.empty_cache()"
      ]
    },
    {
      "cell_type": "markdown",
      "metadata": {
        "id": "Qthv0WUnKtEr"
      },
      "source": [
        "## Imports"
      ]
    },
    {
      "cell_type": "code",
      "execution_count": null,
      "metadata": {
        "id": "bWBuBRcuurk_"
      },
      "outputs": [],
      "source": [
        "from transformers import BertTokenizer, BertForSequenceClassification, TrainingArguments, Trainer\n",
        "from torch.utils.data import DataLoader, RandomSampler, SequentialSampler, TensorDataset\n",
        "from transformers import AdamW, get_linear_schedule_with_warmup\n",
        "from sklearn.model_selection import train_test_split\n",
        "from sklearn.metrics import accuracy_score, precision_recall_fscore_support\n",
        "import numpy as np\n",
        "import pandas as pd"
      ]
    },
    {
      "cell_type": "markdown",
      "metadata": {
        "id": "DDkZNO2DunNV"
      },
      "source": [
        "# Classifier Main"
      ]
    },
    {
      "cell_type": "code",
      "execution_count": null,
      "metadata": {
        "id": "3TWKtEdHurk_"
      },
      "outputs": [],
      "source": [
        "q1 = pd.read_csv('/content/drive/MyDrive/data/csv/queries.csv')"
      ]
    },
    {
      "cell_type": "code",
      "execution_count": null,
      "metadata": {
        "id": "-bgttq1BurlA"
      },
      "outputs": [],
      "source": [
        "q1.head(5)"
      ]
    },
    {
      "cell_type": "code",
      "execution_count": null,
      "metadata": {
        "id": "MIzumX_BWOOg"
      },
      "outputs": [],
      "source": [
        "label_mapping = {'quantitative analysis': 0, 'general information': 1, 'miscellaneous':2}\n",
        "q1['label'] = q1['label'].map(label_mapping)"
      ]
    },
    {
      "cell_type": "code",
      "execution_count": null,
      "metadata": {
        "id": "qwHv1km6urlA"
      },
      "outputs": [],
      "source": [
        "# Load the pre-trained BioBERT model and tokenizer\n",
        "tokenizer = BertTokenizer.from_pretrained('dmis-lab/biobert-v1.1')\n",
        "model = BertForSequenceClassification.from_pretrained('dmis-lab/biobert-v1.1', num_labels=3)\n",
        "model.to(device)"
      ]
    },
    {
      "cell_type": "code",
      "execution_count": null,
      "metadata": {
        "id": "g1h1RVfClkla"
      },
      "outputs": [],
      "source": [
        "encoded_batch = tokenizer(\n",
        "    list(q1['text']),\n",
        "    padding=True,\n",
        "    truncation=True,\n",
        "    max_length=256,\n",
        "    return_tensors=\"pt\"\n",
        ")"
      ]
    },
    {
      "cell_type": "code",
      "execution_count": null,
      "metadata": {
        "id": "7VWX6EmRLL-C"
      },
      "outputs": [],
      "source": [
        "input_ids = encoded_batch['input_ids']\n",
        "attention_masks = encoded_batch['attention_mask']\n",
        "labels = torch.tensor(q1['label'].values)"
      ]
    },
    {
      "cell_type": "code",
      "execution_count": null,
      "metadata": {
        "id": "wpOxHyRNiHzm"
      },
      "outputs": [],
      "source": [
        "# Data split\n",
        "train_inputs, val_inputs, train_labels, val_labels = train_test_split(\n",
        "    input_ids, labels,\n",
        "    test_size = 0.1, stratify = labels\n",
        ")\n",
        "\n",
        "train_masks, val_masks, _, _ = train_test_split(\n",
        "    attention_masks, labels,\n",
        "    test_size = 0.1, stratify = labels\n",
        ")"
      ]
    },
    {
      "cell_type": "code",
      "execution_count": null,
      "metadata": {
        "id": "SICKBr_1LQPn"
      },
      "outputs": [],
      "source": [
        "# Create TensorDatasets\n",
        "train_data = TensorDataset(train_inputs, train_masks, train_labels)\n",
        "val_data = TensorDataset(val_inputs, val_masks, val_labels)\n",
        "\n",
        "# Define Samplers & Loaders\n",
        "train_dataloader = DataLoader(train_data, sampler = RandomSampler(train_data), batch_size = 32)\n",
        "val_dataloader = DataLoader(val_data, sampler = SequentialSampler(val_data), batch_size = 32)"
      ]
    }
  ],
  "metadata": {
    "accelerator": "GPU",
    "colab": {
      "gpuType": "T4",
      "provenance": [],
      "toc_visible": true
    },
    "kernelspec": {
      "display_name": "Python 3",
      "name": "python3"
    },
    "language_info": {
      "name": "python"
    }
  },
  "nbformat": 4,
  "nbformat_minor": 0
}
