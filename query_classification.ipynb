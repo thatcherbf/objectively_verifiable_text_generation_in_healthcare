{
 "cells": [
  {
   "cell_type": "markdown",
   "metadata": {
    "id": "6pfY-hRaihWS"
   },
   "source": [
    "# Preamble"
   ]
  },
  {
   "cell_type": "markdown",
   "metadata": {
    "id": "PzM4C14HZR2A"
   },
   "source": [
    "## Drive integration"
   ]
  },
  {
   "cell_type": "code",
   "execution_count": null,
   "metadata": {
    "colab": {
     "base_uri": "https://localhost:8080/"
    },
    "id": "DQbI8kGho3Ej",
    "outputId": "6a4e2a82-bb71-46bf-9893-75f51f4646fb"
   },
   "outputs": [],
   "source": [
    "from google.colab import drive\n",
    "drive.mount('/content/drive')"
   ]
  },
  {
   "cell_type": "markdown",
   "metadata": {
    "id": "mme0ACl1ZViJ"
   },
   "source": [
    "## GPU"
   ]
  },
  {
   "cell_type": "code",
   "execution_count": null,
   "metadata": {
    "id": "rlJAWqhFWok1"
   },
   "outputs": [],
   "source": [
    "import torch\n",
    "device = torch.device(\"cuda\" if torch.cuda.is_available() else \"cpu\")"
   ]
  },
  {
   "cell_type": "markdown",
   "metadata": {
    "id": "Dno0YgNQZXnv"
   },
   "source": [
    "## Free GPU memory"
   ]
  },
  {
   "cell_type": "code",
   "execution_count": null,
   "metadata": {
    "id": "UHx8GpcbZXVN"
   },
   "outputs": [],
   "source": [
    "import gc\n",
    "def free_gpu_memory():\n",
    "  gc.collect()\n",
    "  torch.cuda.empty_cache()"
   ]
  },
  {
   "cell_type": "markdown",
   "metadata": {
    "id": "Qthv0WUnKtEr"
   },
   "source": [
    "## Imports"
   ]
  },
  {
   "cell_type": "code",
   "execution_count": null,
   "metadata": {
    "id": "bWBuBRcuurk_"
   },
   "outputs": [],
   "source": [
    "import torch\n",
    "from torch.utils.data import Dataset\n",
    "from transformers import BertTokenizer, BertForSequenceClassification, TrainingArguments, Trainer\n",
    "from sklearn.model_selection import train_test_split\n",
    "import numpy as np\n",
    "import pandas as pd"
   ]
  },
  {
   "cell_type": "markdown",
   "metadata": {
    "id": "DDkZNO2DunNV"
   },
   "source": [
    "# Classifier Main"
   ]
  },
  {
   "cell_type": "code",
   "execution_count": null,
   "metadata": {
    "id": "3TWKtEdHurk_"
   },
   "outputs": [],
   "source": [
    "q1 = pd.read_csv('/content/drive/MyDrive/data/csv/queries.csv')"
   ]
  },
  {
   "cell_type": "code",
   "execution_count": null,
   "metadata": {
    "colab": {
     "base_uri": "https://localhost:8080/",
     "height": 206
    },
    "id": "-bgttq1BurlA",
    "outputId": "f5b7cb02-8bbd-4610-9375-170ebbe3ada7"
   },
   "outputs": [],
   "source": [
    "q1.head(5)"
   ]
  },
  {
   "cell_type": "code",
   "execution_count": null,
   "metadata": {
    "id": "MIzumX_BWOOg"
   },
   "outputs": [],
   "source": [
    "label_mapping = {'quantitative analysis': 0, 'general information': 1, 'miscellaneous':2}\n",
    "q1['label'] = q1['label'].map(label_mapping)"
   ]
  },
  {
   "cell_type": "code",
   "execution_count": null,
   "metadata": {
    "id": "g1h1RVfClkla"
   },
   "outputs": [],
   "source": [
    "class TextDataset(Dataset):\n",
    "    def __init__(self, texts, labels, tokenizer, max_len=256):\n",
    "        self.texts = texts\n",
    "        self.labels = labels\n",
    "        self.tokenizer = tokenizer\n",
    "        self.max_len = max_len\n",
    "\n",
    "    def __len__(self):\n",
    "        return len(self.texts)\n",
    "\n",
    "    def __getitem__(self, idx):\n",
    "        text = str(self.texts[idx])\n",
    "        label = self.labels[idx]\n",
    "        encoding = self.tokenizer.encode_plus(\n",
    "            text,\n",
    "            add_special_tokens=True,\n",
    "            max_length=self.max_len,\n",
    "            truncation=True,\n",
    "            padding='max_length',\n",
    "            return_tensors='pt'\n",
    "        )\n",
    "        return {\n",
    "            'input_ids': encoding['input_ids'].flatten(),\n",
    "            'attention_mask': encoding['attention_mask'].flatten(),\n",
    "            'labels': torch.tensor(label, dtype=torch.long)\n",
    "        }"
   ]
  },
  {
   "cell_type": "code",
   "execution_count": null,
   "metadata": {
    "colab": {
     "base_uri": "https://localhost:8080/"
    },
    "id": "qwHv1km6urlA",
    "outputId": "0c4845e9-f702-4dee-8d96-8cb0ed2977a7"
   },
   "outputs": [],
   "source": [
    "# Load the pre-trained BioBERT model and tokenizer\n",
    "tokenizer = BertTokenizer.from_pretrained('dmis-lab/biobert-v1.1')\n",
    "model = BertForSequenceClassification.from_pretrained('dmis-lab/biobert-v1.1', num_labels=3)\n",
    "model.to(device)"
   ]
  },
  {
   "cell_type": "code",
   "execution_count": null,
   "metadata": {
    "id": "7VWX6EmRLL-C"
   },
   "outputs": [],
   "source": [
    "# Prepare data\n",
    "texts = q1['text'].tolist()\n",
    "labels = q1['label'].tolist()\n",
    "train_texts, val_texts, train_labels, val_labels = train_test_split(\n",
    "    texts, labels,\n",
    "    test_size = 0.1, stratify = labels\n",
    ")"
   ]
  },
  {
   "cell_type": "code",
   "execution_count": null,
   "metadata": {
    "id": "wml6hF3HaERY"
   },
   "outputs": [],
   "source": [
    "train_dataset = TextDataset(train_texts, train_labels, tokenizer)\n",
    "val_dataset = TextDataset(val_texts, val_labels, tokenizer)"
   ]
  },
  {
   "cell_type": "code",
   "execution_count": null,
   "metadata": {
    "id": "5VVTxqx1urlB"
   },
   "outputs": [],
   "source": [
    "# Define training arguments\n",
    "training_args = TrainingArguments(\n",
    "    output_dir = './results',\n",
    "    num_train_epochs = 10,\n",
    "    per_device_train_batch_size = 32,\n",
    "    per_device_eval_batch_size = 32,\n",
    "    warmup_steps = 0,\n",
    "    learning_rate = 2e-5,\n",
    "    weight_decay = 0.01,\n",
    "    adam_epsilon = 1e-8,\n",
    "    logging_dir = './logs',\n",
    "    logging_steps = 10,\n",
    "    eval_strategy = \"epoch\",\n",
    "    save_strategy = \"epoch\",\n",
    "    load_best_model_at_end = True,\n",
    "    metric_for_best_model = \"eval_loss\",\n",
    "    greater_is_better=False,\n",
    "    report_to = \"none\"  # Disable logging to external services (e.g. WandB)\n",
    ")"
   ]
  },
  {
   "cell_type": "code",
   "execution_count": null,
   "metadata": {
    "colab": {
     "base_uri": "https://localhost:8080/"
    },
    "id": "ieQYOfwogtZY",
    "outputId": "b8a9de5e-b106-4750-f095-735a103159fc"
   },
   "outputs": [],
   "source": [
    "# Define Trainer\n",
    "trainer = Trainer(\n",
    "    model = model,\n",
    "    args = training_args,\n",
    "    train_dataset = train_dataset,\n",
    "    eval_dataset = val_dataset,\n",
    "    tokenizer = tokenizer\n",
    ")"
   ]
  },
  {
   "cell_type": "code",
   "execution_count": null,
   "metadata": {
    "id": "0gO1ctwhNyaq"
   },
   "outputs": [],
   "source": [
    "torch.cuda.empty_cache()"
   ]
  },
  {
   "cell_type": "code",
   "execution_count": null,
   "metadata": {
    "colab": {
     "base_uri": "https://localhost:8080/",
     "height": 264
    },
    "id": "Ffz3OpL7L5ar",
    "outputId": "a62f4847-cd55-4e50-99af-e63c323fc7d6"
   },
   "outputs": [],
   "source": [
    "# Train the model\n",
    "trainer.train()"
   ]
  },
  {
   "cell_type": "code",
   "execution_count": null,
   "metadata": {
    "id": "hDel0yecY65U"
   },
   "outputs": [],
   "source": [
    "# Evaluate the model\n",
    "eval_results = trainer.evaluate()\n",
    "print(f\"Evaluation results: {eval_results}\")"
   ]
  },
  {
   "cell_type": "code",
   "execution_count": null,
   "metadata": {
    "id": "HsMM5pcQWj6Y"
   },
   "outputs": [],
   "source": [
    "model.to(device)"
   ]
  },
  {
   "cell_type": "code",
   "execution_count": null,
   "metadata": {
    "id": "JHYygWBgurlC"
   },
   "outputs": [],
   "source": [
    "model.eval()\n",
    "print(\"Model loaded successfully.\")"
   ]
  },
  {
   "cell_type": "code",
   "execution_count": null,
   "metadata": {
    "id": "LcSHIJsbMXyi"
   },
   "outputs": [],
   "source": [
    "# Inference function\n",
    "def classify(model, tokenizer, text, label_dict, max_len = 256):\n",
    "    encoding = tokenizer(\n",
    "        text, return_tensors = 'pt',\n",
    "        max_length = max_len,\n",
    "        truncation = True, padding = True)\n",
    "    input_ids = encoding['input_ids'].to(device)\n",
    "    attention_mask = encoding['attention_mask'].to(device)\n",
    "\n",
    "    with torch.no_grad():\n",
    "        outputs = model(input_ids, attention_mask = attention_mask)\n",
    "    prediction_idx = torch.argmax(outputs.logits, dim = 1).item()\n",
    "\n",
    "    return label_dict[prediction_idx]"
   ]
  },
  {
   "cell_type": "code",
   "execution_count": null,
   "metadata": {
    "id": "540mqgV3NUgB"
   },
   "outputs": [],
   "source": [
    "# Inference\n",
    "label_dict = {0: 'quantitative analysis', 1: 'general information', 2: 'miscellaneous'}"
   ]
  },
  {
   "cell_type": "code",
   "execution_count": null,
   "metadata": {
    "id": "U7kSB9DAurlC"
   },
   "outputs": [],
   "source": [
    "new_texts = [\n",
    "    \"How much is 5 multiplied by 10?\",\n",
    "    \"What is the capital of France?\",\n",
    "    \"What is the square root of 16?\",\n",
    "    \"How many planets are there in the solar system?\",\n",
    "    \"What is my risk for cardiovascular disease if my blood pressure goes up to 180?\",\n",
    "    \"What causes the buildup of plaque in the arteries?\",\n",
    "    \"What are the main causes of atherosclerosis?\",\n",
    "    \"Is there a correlation between developing diabetes and the risk of cardiovascular disease?\",\n",
    "    \"Will developing diabetes affect my risk of developing cardiovascular disease?\",\n",
    "    \"Can I get tickets to the 9:00 showing of Cats?\",\n",
    "    \"What will happen to my risk of cardiovascular disease if my blood pressure increases by 50%?\"\n",
    "]"
   ]
  },
  {
   "cell_type": "code",
   "execution_count": null,
   "metadata": {
    "id": "8yRVxHMHurlD"
   },
   "outputs": [],
   "source": [
    "for text in new_texts:\n",
    "    print(f\"{text} --> {classify(model, tokenizer, text, label_dict)}\")"
   ]
  },
  {
   "cell_type": "markdown",
   "metadata": {
    "id": "SpOCjiLvnwjh"
   },
   "source": [
    "## Save model"
   ]
  },
  {
   "cell_type": "code",
   "execution_count": null,
   "metadata": {
    "id": "Q5toHUeWurlE"
   },
   "outputs": [],
   "source": [
    "model.save_pretrained('/content/drive/MyDrive/classifiers/v1')"
   ]
  },
  {
   "cell_type": "code",
   "execution_count": null,
   "metadata": {
    "id": "-oovwZt5urlE"
   },
   "outputs": [],
   "source": [
    "classifier_v1 = BertForSequenceClassification.from_pretrained('/content/drive/MyDrive/classifiers/v1')\n",
    "classifier_v1.to(device)\n",
    "classifier_v1.eval()\n",
    "print(\"Classifier loaded successfully.\")"
   ]
  }
 ],
 "metadata": {
  "accelerator": "GPU",
  "colab": {
   "gpuType": "T4",
   "provenance": []
  },
  "kernelspec": {
   "display_name": "Python 3 (ipykernel)",
   "language": "python",
   "name": "python3"
  },
  "language_info": {
   "codemirror_mode": {
    "name": "ipython",
    "version": 3
   },
   "file_extension": ".py",
   "mimetype": "text/x-python",
   "name": "python",
   "nbconvert_exporter": "python",
   "pygments_lexer": "ipython3",
   "version": "3.12.2"
  }
 },
 "nbformat": 4,
 "nbformat_minor": 4
}
